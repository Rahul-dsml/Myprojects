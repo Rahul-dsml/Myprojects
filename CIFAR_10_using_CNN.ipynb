{
  "nbformat": 4,
  "nbformat_minor": 0,
  "metadata": {
    "colab": {
      "name": "CIFAR-10_using CNN.ipynb",
      "provenance": [],
      "collapsed_sections": [],
      "authorship_tag": "ABX9TyNJZoJ2MNRpGWzfppNnCdgc",
      "include_colab_link": true
    },
    "kernelspec": {
      "name": "python3",
      "display_name": "Python 3"
    },
    "language_info": {
      "name": "python"
    },
    "accelerator": "GPU"
  },
  "cells": [
    {
      "cell_type": "markdown",
      "metadata": {
        "id": "view-in-github",
        "colab_type": "text"
      },
      "source": [
        "<a href=\"https://colab.research.google.com/github/Rahul-dsml/Myprojects/blob/main/CIFAR_10_using_CNN.ipynb\" target=\"_parent\"><img src=\"https://colab.research.google.com/assets/colab-badge.svg\" alt=\"Open In Colab\"/></a>"
      ]
    },
    {
      "cell_type": "code",
      "execution_count": 1,
      "metadata": {
        "id": "atXsQBsfvZwQ"
      },
      "outputs": [],
      "source": [
        "import numpy as np\n",
        "import pandas as pd\n",
        "\n",
        "import matplotlib.pyplot as plt\n",
        "import seaborn as sns\n",
        "\n",
        "import tensorflow as tf\n",
        "from tensorflow import keras\n",
        "from tensorflow.keras.datasets import cifar10\n",
        "from tensorflow.keras import layers, Sequential\n",
        "from tensorflow.keras.layers import Conv2D, MaxPool2D, Dropout, Flatten, Dense, BatchNormalization"
      ]
    },
    {
      "cell_type": "code",
      "source": [
        "#Load the dataset\n",
        "(X_train, y_train), (X_test, y_test)= cifar10.load_data()"
      ],
      "metadata": {
        "colab": {
          "base_uri": "https://localhost:8080/"
        },
        "id": "5Un8quuswSJU",
        "outputId": "22952ef2-0e8a-436e-a18d-d3fb0e5f0c14"
      },
      "execution_count": 2,
      "outputs": [
        {
          "output_type": "stream",
          "name": "stdout",
          "text": [
            "Downloading data from https://www.cs.toronto.edu/~kriz/cifar-10-python.tar.gz\n",
            "170500096/170498071 [==============================] - 6s 0us/step\n",
            "170508288/170498071 [==============================] - 6s 0us/step\n"
          ]
        }
      ]
    },
    {
      "cell_type": "code",
      "source": [
        "print(X_train.shape)\n",
        "print(y_train.shape)\n",
        "print(X_test.shape)\n",
        "print(y_test.shape)"
      ],
      "metadata": {
        "colab": {
          "base_uri": "https://localhost:8080/"
        },
        "id": "N6j9Rdr-wgiR",
        "outputId": "924d96e7-9b74-41f2-cce4-2da9d9503146"
      },
      "execution_count": 3,
      "outputs": [
        {
          "output_type": "stream",
          "name": "stdout",
          "text": [
            "(50000, 32, 32, 3)\n",
            "(50000, 1)\n",
            "(10000, 32, 32, 3)\n",
            "(10000, 1)\n"
          ]
        }
      ]
    },
    {
      "cell_type": "code",
      "source": [
        "plt.figure(figsize=(1,1))\n",
        "plt.imshow(X_train[1])\n",
        "plt.show()"
      ],
      "metadata": {
        "colab": {
          "base_uri": "https://localhost:8080/",
          "height": 105
        },
        "id": "O2zwcAWwwqRq",
        "outputId": "954d0d36-f660-4443-db47-c1bd1e113649"
      },
      "execution_count": 5,
      "outputs": [
        {
          "output_type": "display_data",
          "data": {
            "image/png": "[encoded data removed]",
            "text/plain": [
              "<Figure size 72x72 with 1 Axes>"
            ]
          },
          "metadata": {
            "needs_background": "light"
          }
        }
      ]
    },
    {
      "cell_type": "code",
      "source": [
        "y_train[1]"
      ],
      "metadata": {
        "colab": {
          "base_uri": "https://localhost:8080/"
        },
        "id": "Y_y1-8ZUw16Y",
        "outputId": "a0a53b07-f8ea-4651-8273-1910f3ef8129"
      },
      "execution_count": 6,
      "outputs": [
        {
          "output_type": "execute_result",
          "data": {
            "text/plain": [
              "array([9], dtype=uint8)"
            ]
          },
          "metadata": {},
          "execution_count": 6
        }
      ]
    },
    {
      "cell_type": "code",
      "source": [
        "np.unique(y_train)"
      ],
      "metadata": {
        "colab": {
          "base_uri": "https://localhost:8080/"
        },
        "id": "CWzS2LdCgzNC",
        "outputId": "f5b276cd-6e6f-491d-d457-948213cf6776"
      },
      "execution_count": 7,
      "outputs": [
        {
          "output_type": "execute_result",
          "data": {
            "text/plain": [
              "array([0, 1, 2, 3, 4, 5, 6, 7, 8, 9], dtype=uint8)"
            ]
          },
          "metadata": {},
          "execution_count": 7
        }
      ]
    },
    {
      "cell_type": "code",
      "source": [
        "# Converting the datatype from int to float\n",
        "X_train.dtype"
      ],
      "metadata": {
        "id": "S4-Ukni9xGwi",
        "colab": {
          "base_uri": "https://localhost:8080/"
        },
        "outputId": "20b0d584-b8c0-4878-fe01-42fb0cae2d2a"
      },
      "execution_count": 8,
      "outputs": [
        {
          "output_type": "execute_result",
          "data": {
            "text/plain": [
              "dtype('uint8')"
            ]
          },
          "metadata": {},
          "execution_count": 8
        }
      ]
    },
    {
      "cell_type": "code",
      "source": [
        "X_train= X_train.astype('float32')\n",
        "X_test= X_test.astype('float32')"
      ],
      "metadata": {
        "id": "S9GQ0WERgVmy"
      },
      "execution_count": 9,
      "outputs": []
    },
    {
      "cell_type": "code",
      "source": [
        "#Normalizing the values\n",
        "X_train= X_train/255\n",
        "X_test= X_test/255"
      ],
      "metadata": {
        "id": "xRJNZCm7gfF0"
      },
      "execution_count": 10,
      "outputs": []
    },
    {
      "cell_type": "code",
      "source": [
        "y_train= tf.keras.utils.to_categorical(y_train, 10)\n",
        "y_test= tf.keras.utils.to_categorical(y_test, 10)"
      ],
      "metadata": {
        "id": "Dk5_a8bHlgw6"
      },
      "execution_count": 11,
      "outputs": []
    },
    {
      "cell_type": "code",
      "source": [
        "y_train"
      ],
      "metadata": {
        "colab": {
          "base_uri": "https://localhost:8080/"
        },
        "id": "IvwZKadiLYzK",
        "outputId": "cb606668-734d-433f-e3c6-d518000fd633"
      },
      "execution_count": 13,
      "outputs": [
        {
          "output_type": "execute_result",
          "data": {
            "text/plain": [
              "array([[0., 0., 0., ..., 0., 0., 0.],\n",
              "       [0., 0., 0., ..., 0., 0., 1.],\n",
              "       [0., 0., 0., ..., 0., 0., 1.],\n",
              "       ...,\n",
              "       [0., 0., 0., ..., 0., 0., 1.],\n",
              "       [0., 1., 0., ..., 0., 0., 0.],\n",
              "       [0., 1., 0., ..., 0., 0., 0.]], dtype=float32)"
            ]
          },
          "metadata": {},
          "execution_count": 13
        }
      ]
    },
    {
      "cell_type": "markdown",
      "source": [
        "### Model Building"
      ],
      "metadata": {
        "id": "tsg4V6mZgpiO"
      }
    },
    {
      "cell_type": "code",
      "source": [
        "Batch_size= 64\n",
        "img_ht= 32\n",
        "img_wd= 32\n",
        "num_classes= 10"
      ],
      "metadata": {
        "id": "0jrfRXMwgnHu"
      },
      "execution_count": 35,
      "outputs": []
    },
    {
      "cell_type": "code",
      "source": [
        "model= Sequential([\n",
        "                   layers.Conv2D(32, kernel_size=(3,3),padding='same', input_shape= (img_ht, img_wd, 3), activation= 'relu'),\n",
        "                   layers.Conv2D(32, kernel_size= (3,3), activation='relu'),\n",
        "                   layers.BatchNormalization(),\n",
        "                   layers.MaxPool2D(pool_size=(2,2)),\n",
        "                   layers.Dropout(0.25),\n",
        "                   layers.Conv2D(64, kernel_size= (3,3), padding= 'same',activation='relu'),\n",
        "                   layers.Conv2D(64, kernel_size= (3,3), activation='relu'),\n",
        "                   layers.BatchNormalization(),\n",
        "                   layers.MaxPool2D(pool_size=(2,2)),\n",
        "                   layers.Dropout(0.25),\n",
        "                   layers.Conv2D(128, kernel_size= (3,3), padding= 'same',activation='relu'),\n",
        "                   layers.Conv2D(128, kernel_size= (3,3), activation='relu'),\n",
        "                   layers.BatchNormalization(),\n",
        "                   layers.MaxPool2D(pool_size=(2,2)),\n",
        "                   layers.Dropout(0.25),\n",
        "                   layers.Flatten(),\n",
        "                   layers.Dense(256, activation='relu'),\n",
        "                   layers.Dense(512, activation= 'relu'),\n",
        "                   layers.Dropout(0.5),\n",
        "                   layers.Dense(num_classes, activation= 'softmax')\n",
        "])"
      ],
      "metadata": {
        "id": "cdP3J75nhSwN"
      },
      "execution_count": 31,
      "outputs": []
    },
    {
      "cell_type": "code",
      "source": [
        "model.summary()"
      ],
      "metadata": {
        "colab": {
          "base_uri": "https://localhost:8080/"
        },
        "id": "gmPapoQ8i31L",
        "outputId": "12bd2d4a-5f2c-4c68-c0a0-7358973c6a5c"
      },
      "execution_count": 32,
      "outputs": [
        {
          "output_type": "stream",
          "name": "stdout",
          "text": [
            "Model: \"sequential_4\"\n",
            "_________________________________________________________________\n",
            " Layer (type)                Output Shape              Param #   \n",
            "=================================================================\n",
            " conv2d_22 (Conv2D)          (None, 32, 32, 32)        896       \n",
            "                                                                 \n",
            " conv2d_23 (Conv2D)          (None, 30, 30, 32)        9248      \n",
            "                                                                 \n",
            " batch_normalization_11 (Bat  (None, 30, 30, 32)       128       \n",
            " chNormalization)                                                \n",
            "                                                                 \n",
            " max_pooling2d_11 (MaxPoolin  (None, 15, 15, 32)       0         \n",
            " g2D)                                                            \n",
            "                                                                 \n",
            " dropout_13 (Dropout)        (None, 15, 15, 32)        0         \n",
            "                                                                 \n",
            " conv2d_24 (Conv2D)          (None, 15, 15, 64)        18496     \n",
            "                                                                 \n",
            " conv2d_25 (Conv2D)          (None, 13, 13, 64)        36928     \n",
            "                                                                 \n",
            " batch_normalization_12 (Bat  (None, 13, 13, 64)       256       \n",
            " chNormalization)                                                \n",
            "                                                                 \n",
            " max_pooling2d_12 (MaxPoolin  (None, 6, 6, 64)         0         \n",
            " g2D)                                                            \n",
            "                                                                 \n",
            " dropout_14 (Dropout)        (None, 6, 6, 64)          0         \n",
            "                                                                 \n",
            " conv2d_26 (Conv2D)          (None, 6, 6, 128)         73856     \n",
            "                                                                 \n",
            " conv2d_27 (Conv2D)          (None, 4, 4, 128)         147584    \n",
            "                                                                 \n",
            " batch_normalization_13 (Bat  (None, 4, 4, 128)        512       \n",
            " chNormalization)                                                \n",
            "                                                                 \n",
            " max_pooling2d_13 (MaxPoolin  (None, 2, 2, 128)        0         \n",
            " g2D)                                                            \n",
            "                                                                 \n",
            " dropout_15 (Dropout)        (None, 2, 2, 128)         0         \n",
            "                                                                 \n",
            " flatten_4 (Flatten)         (None, 512)               0         \n",
            "                                                                 \n",
            " dense_12 (Dense)            (None, 256)               131328    \n",
            "                                                                 \n",
            " dense_13 (Dense)            (None, 512)               131584    \n",
            "                                                                 \n",
            " dropout_16 (Dropout)        (None, 512)               0         \n",
            "                                                                 \n",
            " dense_14 (Dense)            (None, 10)                5130      \n",
            "                                                                 \n",
            "=================================================================\n",
            "Total params: 555,946\n",
            "Trainable params: 555,498\n",
            "Non-trainable params: 448\n",
            "_________________________________________________________________\n"
          ]
        }
      ]
    },
    {
      "cell_type": "code",
      "source": [
        "model.compile(optimizer=tf.keras.optimizers.Adam(),\n",
        "              metrics= ['accuracy'],\n",
        "              loss= tf.keras.losses.categorical_crossentropy)"
      ],
      "metadata": {
        "id": "Bavze3_pkUxB"
      },
      "execution_count": 33,
      "outputs": []
    },
    {
      "cell_type": "code",
      "source": [
        "epochs=50\n",
        "history= model.fit(X_train,\n",
        "                   y_train,\n",
        "                   batch_size= Batch_size,\n",
        "                   epochs= epochs,\n",
        "                   verbose=1,\n",
        "                   validation_data= (X_test, y_test))"
      ],
      "metadata": {
        "colab": {
          "base_uri": "https://localhost:8080/"
        },
        "id": "dr2mtZPRkw4M",
        "outputId": "4697cf13-0ece-44b6-da04-f2bb2a1c622b"
      },
      "execution_count": 36,
      "outputs": [
        {
          "output_type": "stream",
          "name": "stdout",
          "text": [
            "Epoch 1/50\n",
            "782/782 [==============================] - 17s 21ms/step - loss: 1.0241 - accuracy: 0.6437 - val_loss: 0.9262 - val_accuracy: 0.6798\n",
            "Epoch 2/50\n",
            "782/782 [==============================] - 17s 22ms/step - loss: 0.8632 - accuracy: 0.7024 - val_loss: 0.9070 - val_accuracy: 0.6882\n",
            "Epoch 3/50\n",
            "782/782 [==============================] - 17s 21ms/step - loss: 0.7774 - accuracy: 0.7342 - val_loss: 0.8863 - val_accuracy: 0.7076\n",
            "Epoch 4/50\n",
            "782/782 [==============================] - 16s 21ms/step - loss: 0.7116 - accuracy: 0.7552 - val_loss: 0.8071 - val_accuracy: 0.7328\n",
            "Epoch 5/50\n",
            "782/782 [==============================] - 16s 21ms/step - loss: 0.6586 - accuracy: 0.7736 - val_loss: 0.6873 - val_accuracy: 0.7690\n",
            "Epoch 6/50\n",
            "782/782 [==============================] - 16s 21ms/step - loss: 0.6229 - accuracy: 0.7874 - val_loss: 0.6819 - val_accuracy: 0.7717\n",
            "Epoch 7/50\n",
            "782/782 [==============================] - 16s 21ms/step - loss: 0.5861 - accuracy: 0.7988 - val_loss: 0.6400 - val_accuracy: 0.7893\n",
            "Epoch 8/50\n",
            "782/782 [==============================] - 16s 21ms/step - loss: 0.5564 - accuracy: 0.8097 - val_loss: 0.6045 - val_accuracy: 0.8042\n",
            "Epoch 9/50\n",
            "782/782 [==============================] - 16s 21ms/step - loss: 0.5297 - accuracy: 0.8184 - val_loss: 0.5925 - val_accuracy: 0.8110\n",
            "Epoch 10/50\n",
            "782/782 [==============================] - 16s 21ms/step - loss: 0.5018 - accuracy: 0.8279 - val_loss: 0.5885 - val_accuracy: 0.8049\n",
            "Epoch 11/50\n",
            "782/782 [==============================] - 16s 21ms/step - loss: 0.4824 - accuracy: 0.8336 - val_loss: 0.6996 - val_accuracy: 0.7807\n",
            "Epoch 12/50\n",
            "782/782 [==============================] - 17s 21ms/step - loss: 0.4659 - accuracy: 0.8392 - val_loss: 0.5980 - val_accuracy: 0.8076\n",
            "Epoch 13/50\n",
            "782/782 [==============================] - 17s 21ms/step - loss: 0.4434 - accuracy: 0.8471 - val_loss: 0.6152 - val_accuracy: 0.8082\n",
            "Epoch 14/50\n",
            "782/782 [==============================] - 16s 20ms/step - loss: 0.4258 - accuracy: 0.8523 - val_loss: 0.5691 - val_accuracy: 0.8149\n",
            "Epoch 15/50\n",
            "782/782 [==============================] - 16s 20ms/step - loss: 0.4129 - accuracy: 0.8580 - val_loss: 0.6047 - val_accuracy: 0.8053\n",
            "Epoch 16/50\n",
            "782/782 [==============================] - 16s 20ms/step - loss: 0.4036 - accuracy: 0.8612 - val_loss: 0.5926 - val_accuracy: 0.8140\n",
            "Epoch 17/50\n",
            "782/782 [==============================] - 16s 20ms/step - loss: 0.3844 - accuracy: 0.8672 - val_loss: 0.6890 - val_accuracy: 0.8026\n",
            "Epoch 18/50\n",
            "782/782 [==============================] - 16s 21ms/step - loss: 0.3731 - accuracy: 0.8711 - val_loss: 0.5776 - val_accuracy: 0.8196\n",
            "Epoch 19/50\n",
            "782/782 [==============================] - 16s 21ms/step - loss: 0.3640 - accuracy: 0.8752 - val_loss: 0.5816 - val_accuracy: 0.8188\n",
            "Epoch 20/50\n",
            "782/782 [==============================] - 16s 21ms/step - loss: 0.3446 - accuracy: 0.8806 - val_loss: 0.5980 - val_accuracy: 0.8093\n",
            "Epoch 21/50\n",
            "782/782 [==============================] - 16s 21ms/step - loss: 0.3385 - accuracy: 0.8832 - val_loss: 0.5665 - val_accuracy: 0.8273\n",
            "Epoch 22/50\n",
            "782/782 [==============================] - 16s 21ms/step - loss: 0.3287 - accuracy: 0.8859 - val_loss: 0.6642 - val_accuracy: 0.8179\n",
            "Epoch 23/50\n",
            "782/782 [==============================] - 17s 21ms/step - loss: 0.3185 - accuracy: 0.8904 - val_loss: 0.5475 - val_accuracy: 0.8413\n",
            "Epoch 24/50\n",
            "782/782 [==============================] - 16s 21ms/step - loss: 0.3076 - accuracy: 0.8925 - val_loss: 0.6147 - val_accuracy: 0.8270\n",
            "Epoch 25/50\n",
            "782/782 [==============================] - 16s 21ms/step - loss: 0.3081 - accuracy: 0.8934 - val_loss: 0.5887 - val_accuracy: 0.8296\n",
            "Epoch 26/50\n",
            "782/782 [==============================] - 16s 21ms/step - loss: 0.2928 - accuracy: 0.8997 - val_loss: 0.6023 - val_accuracy: 0.8230\n",
            "Epoch 27/50\n",
            "782/782 [==============================] - 16s 21ms/step - loss: 0.2922 - accuracy: 0.9001 - val_loss: 0.6246 - val_accuracy: 0.8295\n",
            "Epoch 28/50\n",
            "782/782 [==============================] - 16s 21ms/step - loss: 0.2764 - accuracy: 0.9060 - val_loss: 0.5506 - val_accuracy: 0.8402\n",
            "Epoch 29/50\n",
            "782/782 [==============================] - 16s 21ms/step - loss: 0.2703 - accuracy: 0.9068 - val_loss: 0.5532 - val_accuracy: 0.8398\n",
            "Epoch 30/50\n",
            "782/782 [==============================] - 16s 21ms/step - loss: 0.2618 - accuracy: 0.9088 - val_loss: 0.6593 - val_accuracy: 0.8251\n",
            "Epoch 31/50\n",
            "782/782 [==============================] - 16s 21ms/step - loss: 0.2615 - accuracy: 0.9105 - val_loss: 0.6311 - val_accuracy: 0.8256\n",
            "Epoch 32/50\n",
            "782/782 [==============================] - 17s 21ms/step - loss: 0.2553 - accuracy: 0.9118 - val_loss: 0.5805 - val_accuracy: 0.8419\n",
            "Epoch 33/50\n",
            "782/782 [==============================] - 17s 21ms/step - loss: 0.2462 - accuracy: 0.9153 - val_loss: 0.6599 - val_accuracy: 0.8283\n",
            "Epoch 34/50\n",
            "782/782 [==============================] - 16s 20ms/step - loss: 0.2477 - accuracy: 0.9140 - val_loss: 0.5748 - val_accuracy: 0.8421\n",
            "Epoch 35/50\n",
            "782/782 [==============================] - 16s 21ms/step - loss: 0.2359 - accuracy: 0.9183 - val_loss: 0.5993 - val_accuracy: 0.8364\n",
            "Epoch 36/50\n",
            "782/782 [==============================] - 17s 21ms/step - loss: 0.2313 - accuracy: 0.9204 - val_loss: 0.6447 - val_accuracy: 0.8299\n",
            "Epoch 37/50\n",
            "782/782 [==============================] - 16s 21ms/step - loss: 0.2284 - accuracy: 0.9202 - val_loss: 0.6157 - val_accuracy: 0.8286\n",
            "Epoch 38/50\n",
            "782/782 [==============================] - 16s 21ms/step - loss: 0.2253 - accuracy: 0.9224 - val_loss: 0.6235 - val_accuracy: 0.8362\n",
            "Epoch 39/50\n",
            "782/782 [==============================] - 17s 21ms/step - loss: 0.2180 - accuracy: 0.9236 - val_loss: 0.5962 - val_accuracy: 0.8412\n",
            "Epoch 40/50\n",
            "782/782 [==============================] - 16s 21ms/step - loss: 0.2173 - accuracy: 0.9258 - val_loss: 0.5732 - val_accuracy: 0.8485\n",
            "Epoch 41/50\n",
            "782/782 [==============================] - 16s 21ms/step - loss: 0.2096 - accuracy: 0.9290 - val_loss: 0.5918 - val_accuracy: 0.8468\n",
            "Epoch 42/50\n",
            "782/782 [==============================] - 17s 21ms/step - loss: 0.2096 - accuracy: 0.9275 - val_loss: 0.5784 - val_accuracy: 0.8437\n",
            "Epoch 43/50\n",
            "782/782 [==============================] - 16s 21ms/step - loss: 0.2039 - accuracy: 0.9291 - val_loss: 0.6290 - val_accuracy: 0.8406\n",
            "Epoch 44/50\n",
            "782/782 [==============================] - 17s 21ms/step - loss: 0.2035 - accuracy: 0.9300 - val_loss: 0.6258 - val_accuracy: 0.8405\n",
            "Epoch 45/50\n",
            "782/782 [==============================] - 16s 21ms/step - loss: 0.2003 - accuracy: 0.9319 - val_loss: 0.6561 - val_accuracy: 0.8375\n",
            "Epoch 46/50\n",
            "782/782 [==============================] - 16s 21ms/step - loss: 0.1962 - accuracy: 0.9322 - val_loss: 0.6278 - val_accuracy: 0.8411\n",
            "Epoch 47/50\n",
            "782/782 [==============================] - 17s 21ms/step - loss: 0.1909 - accuracy: 0.9343 - val_loss: 0.6989 - val_accuracy: 0.8234\n",
            "Epoch 48/50\n",
            "782/782 [==============================] - 17s 21ms/step - loss: 0.1897 - accuracy: 0.9351 - val_loss: 0.6285 - val_accuracy: 0.8446\n",
            "Epoch 49/50\n",
            "782/782 [==============================] - 16s 21ms/step - loss: 0.1876 - accuracy: 0.9363 - val_loss: 0.6172 - val_accuracy: 0.8425\n",
            "Epoch 50/50\n",
            "782/782 [==============================] - 16s 21ms/step - loss: 0.1819 - accuracy: 0.9376 - val_loss: 0.6079 - val_accuracy: 0.8435\n"
          ]
        }
      ]
    },
    {
      "cell_type": "markdown",
      "source": [
        "The model is good with training accuracy of 93.7 % and validation accuracy of 84.3 %."
      ],
      "metadata": {
        "id": "lA5pvsAJYPdU"
      }
    },
    {
      "cell_type": "code",
      "source": [
        "import pickle\n",
        "pickle.dump(model, open('cifar10_cnn.pkl', 'wb'))"
      ],
      "metadata": {
        "id": "F33EmhPWl5W3",
        "colab": {
          "base_uri": "https://localhost:8080/"
        },
        "outputId": "4e7abc7e-470d-4e98-bffd-3935ac83cc6b"
      },
      "execution_count": 37,
      "outputs": [
        {
          "output_type": "stream",
          "name": "stdout",
          "text": [
            "INFO:tensorflow:Assets written to: ram://7bb285e3-42ca-48fe-b78c-e03117c4c0d3/assets\n"
          ]
        }
      ]
    },
    {
      "cell_type": "code",
      "source": [
        "model.evaluate(X_test, y_test)"
      ],
      "metadata": {
        "colab": {
          "base_uri": "https://localhost:8080/"
        },
        "id": "KuAxwuvofr6o",
        "outputId": "bcf07eaf-30d8-42a7-df73-849b72d8d0e6"
      },
      "execution_count": 38,
      "outputs": [
        {
          "output_type": "stream",
          "name": "stdout",
          "text": [
            "313/313 [==============================] - 2s 7ms/step - loss: 0.6079 - accuracy: 0.8435\n"
          ]
        },
        {
          "output_type": "execute_result",
          "data": {
            "text/plain": [
              "[0.6079328060150146, 0.843500018119812]"
            ]
          },
          "metadata": {},
          "execution_count": 38
        }
      ]
    },
    {
      "cell_type": "code",
      "source": [
        ""
      ],
      "metadata": {
        "id": "fK8Pmk1mf6Gh"
      },
      "execution_count": null,
      "outputs": []
    }
  ]
}