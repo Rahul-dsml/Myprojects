{
  "nbformat": 4,
  "nbformat_minor": 0,
  "metadata": {
    "colab": {
      "name": "MNIST classification using CNN.ipynb",
      "provenance": [],
      "collapsed_sections": [],
      "authorship_tag": "ABX9TyNBBWfP10l7m0qi0hhwb3Jx",
      "include_colab_link": true
    },
    "kernelspec": {
      "name": "python3",
      "display_name": "Python 3"
    },
    "language_info": {
      "name": "python"
    },
    "accelerator": "GPU"
  },
  "cells": [
    {
      "cell_type": "markdown",
      "metadata": {
        "id": "view-in-github",
        "colab_type": "text"
      },
      "source": [
        "<a href=\"https://colab.research.google.com/github/Rahul-dsml/Myprojects/blob/main/MNIST_classification_using_CNN.ipynb\" target=\"_parent\"><img src=\"https://colab.research.google.com/assets/colab-badge.svg\" alt=\"Open In Colab\"/></a>"
      ]
    },
    {
      "cell_type": "code",
      "execution_count": 2,
      "metadata": {
        "id": "ipfiWHqec7l7"
      },
      "outputs": [],
      "source": [
        "# Importing relevant libraries\n",
        "import numpy as np\n",
        "import pandas as pd\n",
        "\n",
        "import cv2\n",
        "import matplotlib.pyplot as plt\n",
        "\n",
        "import tensorflow as tf\n",
        "from tensorflow import keras\n",
        "from tensorflow.keras.datasets import mnist\n",
        "from tensorflow.keras.models import Sequential\n",
        "from tensorflow.keras import layers\n",
        "from tensorflow.keras.layers import Flatten, MaxPool2D, Conv2D, Dropout, Dense"
      ]
    },
    {
      "cell_type": "code",
      "source": [
        "#load the data\n",
        "(X_train, y_train), (X_test, y_test)= mnist.load_data()\n",
        "print(\"X_train: \", X_train.shape)\n",
        "print(\"y_train: \", y_train.shape)\n",
        "print(\"X_test: \", X_test.shape)\n",
        "print(\"y_test: \", y_test.shape)"
      ],
      "metadata": {
        "colab": {
          "base_uri": "https://localhost:8080/"
        },
        "id": "vWZPJpcZeVIj",
        "outputId": "b88f1a2c-dd16-4388-ce26-873ed630f745"
      },
      "execution_count": 3,
      "outputs": [
        {
          "output_type": "stream",
          "name": "stdout",
          "text": [
            "Downloading data from https://storage.googleapis.com/tensorflow/tf-keras-datasets/mnist.npz\n",
            "11493376/11490434 [==============================] - 0s 0us/step\n",
            "11501568/11490434 [==============================] - 0s 0us/step\n",
            "X_train:  (60000, 28, 28)\n",
            "y_train:  (60000,)\n",
            "X_test:  (10000, 28, 28)\n",
            "y_test:  (10000,)\n"
          ]
        }
      ]
    },
    {
      "cell_type": "code",
      "source": [
        "X_train[0].shape"
      ],
      "metadata": {
        "colab": {
          "base_uri": "https://localhost:8080/"
        },
        "id": "3HmuD_rZe-p4",
        "outputId": "59363f7f-4ffd-444b-bbc5-6e57b83f0cfc"
      },
      "execution_count": 4,
      "outputs": [
        {
          "output_type": "execute_result",
          "data": {
            "text/plain": [
              "(28, 28)"
            ]
          },
          "metadata": {},
          "execution_count": 4
        }
      ]
    },
    {
      "cell_type": "code",
      "source": [
        "plt.imshow(X_train[1100], cmap= 'gray')"
      ],
      "metadata": {
        "colab": {
          "base_uri": "https://localhost:8080/",
          "height": 282
        },
        "id": "4XdJFLndfcte",
        "outputId": "2d723627-009d-44c3-a86d-b3cadc3ab700"
      },
      "execution_count": 5,
      "outputs": [
        {
          "output_type": "execute_result",
          "data": {
            "text/plain": [
              "<matplotlib.image.AxesImage at 0x7f837157d5d0>"
            ]
          },
          "metadata": {},
          "execution_count": 5
        },
        {
          "output_type": "display_data",
          "data": {
            "image/png": "[encoded data removed]",
            "text/plain": [
              "<Figure size 432x288 with 1 Axes>"
            ]
          },
          "metadata": {
            "needs_background": "light"
          }
        }
      ]
    },
    {
      "cell_type": "code",
      "source": [
        "y_train[1100]"
      ],
      "metadata": {
        "colab": {
          "base_uri": "https://localhost:8080/"
        },
        "id": "vF5N6fO6frkt",
        "outputId": "c311c354-bdae-45d7-9533-e796d76d9939"
      },
      "execution_count": 6,
      "outputs": [
        {
          "output_type": "execute_result",
          "data": {
            "text/plain": [
              "6"
            ]
          },
          "metadata": {},
          "execution_count": 6
        }
      ]
    },
    {
      "cell_type": "markdown",
      "source": [
        "### Preprocessing the image"
      ],
      "metadata": {
        "id": "6fofdfO8hP4o"
      }
    },
    {
      "cell_type": "code",
      "source": [
        "X_train.shape"
      ],
      "metadata": {
        "colab": {
          "base_uri": "https://localhost:8080/"
        },
        "id": "ZllOyd7GhA_1",
        "outputId": "07da1702-d336-4739-c9ff-33a3e7efae0c"
      },
      "execution_count": 7,
      "outputs": [
        {
          "output_type": "execute_result",
          "data": {
            "text/plain": [
              "(60000, 28, 28)"
            ]
          },
          "metadata": {},
          "execution_count": 7
        }
      ]
    },
    {
      "cell_type": "code",
      "source": [
        "y_train.shape"
      ],
      "metadata": {
        "colab": {
          "base_uri": "https://localhost:8080/"
        },
        "id": "r7LIvnGeh0pD",
        "outputId": "d2c51750-19e9-435c-c8d3-31587f47732e"
      },
      "execution_count": 8,
      "outputs": [
        {
          "output_type": "execute_result",
          "data": {
            "text/plain": [
              "(60000,)"
            ]
          },
          "metadata": {},
          "execution_count": 8
        }
      ]
    },
    {
      "cell_type": "code",
      "source": [
        "set(y_train)"
      ],
      "metadata": {
        "colab": {
          "base_uri": "https://localhost:8080/"
        },
        "id": "d2PEDsZSiWm1",
        "outputId": "e69e430c-c524-4aa3-9129-ceaf7b1971e6"
      },
      "execution_count": 9,
      "outputs": [
        {
          "output_type": "execute_result",
          "data": {
            "text/plain": [
              "{0, 1, 2, 3, 4, 5, 6, 7, 8, 9}"
            ]
          },
          "metadata": {},
          "execution_count": 9
        }
      ]
    },
    {
      "cell_type": "code",
      "source": [
        "img_ht= 28\n",
        "img_wd= 28\n",
        "Batch_size=64"
      ],
      "metadata": {
        "id": "P3tSM-W9iHKD"
      },
      "execution_count": 10,
      "outputs": []
    },
    {
      "cell_type": "code",
      "source": [
        "#Reshaping the image to be acceptable by model\n",
        "X_train= X_train.reshape(X_train.shape[0], img_ht, img_wd, 1)\n",
        "X_test= X_test.reshape(X_test.shape[0], img_ht, img_wd, 1)\n",
        "print(X_train.shape)\n",
        "print(X_test.shape)"
      ],
      "metadata": {
        "colab": {
          "base_uri": "https://localhost:8080/"
        },
        "id": "SOffedo7h4PA",
        "outputId": "bd1c677e-c186-491e-e58f-c1e2a0f6b815"
      },
      "execution_count": 11,
      "outputs": [
        {
          "output_type": "stream",
          "name": "stdout",
          "text": [
            "(60000, 28, 28, 1)\n",
            "(10000, 28, 28, 1)\n"
          ]
        }
      ]
    },
    {
      "cell_type": "code",
      "source": [
        "y_train= tf.keras.utils.to_categorical(y_train, 10)\n",
        "y_test= tf.keras.utils.to_categorical(y_test, 10)\n",
        "print(y_train.shape)\n",
        "print(y_test.shape)"
      ],
      "metadata": {
        "colab": {
          "base_uri": "https://localhost:8080/"
        },
        "id": "5B4Ox377iusq",
        "outputId": "cdf54df7-f7c0-4dae-9f99-25f68f2d13a4"
      },
      "execution_count": 12,
      "outputs": [
        {
          "output_type": "stream",
          "name": "stdout",
          "text": [
            "(60000, 10)\n",
            "(10000, 10)\n"
          ]
        }
      ]
    },
    {
      "cell_type": "code",
      "source": [
        "#Converting the datatype from int to float\n",
        "X_train.dtype"
      ],
      "metadata": {
        "colab": {
          "base_uri": "https://localhost:8080/"
        },
        "id": "y6uhr8Euja33",
        "outputId": "18e2a433-1746-4cc0-84e5-2e7434858cd6"
      },
      "execution_count": 13,
      "outputs": [
        {
          "output_type": "execute_result",
          "data": {
            "text/plain": [
              "dtype('uint8')"
            ]
          },
          "metadata": {},
          "execution_count": 13
        }
      ]
    },
    {
      "cell_type": "code",
      "source": [
        "X_train= X_train.astype('float32')\n",
        "X_test= X_test.astype('float32')"
      ],
      "metadata": {
        "id": "ot9MVBjojnbX"
      },
      "execution_count": 14,
      "outputs": []
    },
    {
      "cell_type": "code",
      "source": [
        "#Normalizing the pixel values\n",
        "X_train= X_train/255\n",
        "X_test= X_test/255"
      ],
      "metadata": {
        "id": "Ppvm3PLsjrOT"
      },
      "execution_count": 15,
      "outputs": []
    },
    {
      "cell_type": "markdown",
      "source": [
        "## Model building"
      ],
      "metadata": {
        "id": "LAu7t3rikUKo"
      }
    },
    {
      "cell_type": "code",
      "source": [
        "num_classes= 10\n",
        "\n",
        "model= Sequential([\n",
        "                   layers.Conv2D(32, kernel_size= (3, 3), activation='relu', input_shape= (img_ht, img_wd, 1)),\n",
        "                   layers.Conv2D(64, kernel_size= (3,3), activation='relu'),\n",
        "                   layers.MaxPool2D(),\n",
        "                   layers.Dropout(0.25),\n",
        "                   layers.Flatten(),\n",
        "                   layers.Dense(128, activation='relu'),\n",
        "                   layers.Dense(64, activation='relu'),\n",
        "                   layers.Dropout(0.25),\n",
        "                   layers.Dense(num_classes, activation='softmax')\n",
        "])"
      ],
      "metadata": {
        "id": "rOVWgqP-j-oY"
      },
      "execution_count": 16,
      "outputs": []
    },
    {
      "cell_type": "code",
      "source": [
        "model.summary()"
      ],
      "metadata": {
        "colab": {
          "base_uri": "https://localhost:8080/"
        },
        "id": "aHJ2OfiDmgog",
        "outputId": "eb9b1df3-3cce-4570-9b68-abfd344cf3a1"
      },
      "execution_count": 17,
      "outputs": [
        {
          "output_type": "stream",
          "name": "stdout",
          "text": [
            "Model: \"sequential\"\n",
            "_________________________________________________________________\n",
            " Layer (type)                Output Shape              Param #   \n",
            "=================================================================\n",
            " conv2d (Conv2D)             (None, 26, 26, 32)        320       \n",
            "                                                                 \n",
            " conv2d_1 (Conv2D)           (None, 24, 24, 64)        18496     \n",
            "                                                                 \n",
            " max_pooling2d (MaxPooling2D  (None, 12, 12, 64)       0         \n",
            " )                                                               \n",
            "                                                                 \n",
            " dropout (Dropout)           (None, 12, 12, 64)        0         \n",
            "                                                                 \n",
            " flatten (Flatten)           (None, 9216)              0         \n",
            "                                                                 \n",
            " dense (Dense)               (None, 128)               1179776   \n",
            "                                                                 \n",
            " dense_1 (Dense)             (None, 64)                8256      \n",
            "                                                                 \n",
            " dropout_1 (Dropout)         (None, 64)                0         \n",
            "                                                                 \n",
            " dense_2 (Dense)             (None, 10)                650       \n",
            "                                                                 \n",
            "=================================================================\n",
            "Total params: 1,207,498\n",
            "Trainable params: 1,207,498\n",
            "Non-trainable params: 0\n",
            "_________________________________________________________________\n"
          ]
        }
      ]
    },
    {
      "cell_type": "code",
      "source": [
        "#Defining the optimizer, loss and metrics\n",
        "model.compile(optimizer= tf.keras.optimizers.Adam(), \n",
        "              metrics= ['accuracy'],\n",
        "              loss= tf.keras.losses.categorical_crossentropy)"
      ],
      "metadata": {
        "id": "2VWmg_NdnLkq"
      },
      "execution_count": 18,
      "outputs": []
    },
    {
      "cell_type": "code",
      "source": [
        "epochs=20\n",
        "history= model.fit(X_train, y_train,\n",
        "                   epochs=epochs,\n",
        "                   batch_size= Batch_size,\n",
        "                   verbose=1,\n",
        "                   validation_data= (X_test, y_test))"
      ],
      "metadata": {
        "colab": {
          "base_uri": "https://localhost:8080/"
        },
        "id": "LwKGcTS9o16U",
        "outputId": "69c0b171-5ebb-4246-8fbb-959aad85b552"
      },
      "execution_count": 19,
      "outputs": [
        {
          "output_type": "stream",
          "name": "stdout",
          "text": [
            "Epoch 1/20\n",
            "938/938 [==============================] - 21s 12ms/step - loss: 0.1808 - accuracy: 0.9443 - val_loss: 0.0440 - val_accuracy: 0.9860\n",
            "Epoch 2/20\n",
            "938/938 [==============================] - 11s 11ms/step - loss: 0.0585 - accuracy: 0.9834 - val_loss: 0.0393 - val_accuracy: 0.9875\n",
            "Epoch 3/20\n",
            "938/938 [==============================] - 10s 11ms/step - loss: 0.0402 - accuracy: 0.9876 - val_loss: 0.0371 - val_accuracy: 0.9882\n",
            "Epoch 4/20\n",
            "938/938 [==============================] - 11s 11ms/step - loss: 0.0321 - accuracy: 0.9902 - val_loss: 0.0385 - val_accuracy: 0.9889\n",
            "Epoch 5/20\n",
            "938/938 [==============================] - 11s 12ms/step - loss: 0.0252 - accuracy: 0.9919 - val_loss: 0.0341 - val_accuracy: 0.9902\n",
            "Epoch 6/20\n",
            "938/938 [==============================] - 11s 12ms/step - loss: 0.0207 - accuracy: 0.9939 - val_loss: 0.0366 - val_accuracy: 0.9895\n",
            "Epoch 7/20\n",
            "938/938 [==============================] - 10s 11ms/step - loss: 0.0158 - accuracy: 0.9948 - val_loss: 0.0367 - val_accuracy: 0.9912\n",
            "Epoch 8/20\n",
            "938/938 [==============================] - 10s 11ms/step - loss: 0.0148 - accuracy: 0.9953 - val_loss: 0.0465 - val_accuracy: 0.9889\n",
            "Epoch 9/20\n",
            "938/938 [==============================] - 11s 12ms/step - loss: 0.0126 - accuracy: 0.9959 - val_loss: 0.0403 - val_accuracy: 0.9903\n",
            "Epoch 10/20\n",
            "938/938 [==============================] - 11s 11ms/step - loss: 0.0114 - accuracy: 0.9962 - val_loss: 0.0447 - val_accuracy: 0.9897\n",
            "Epoch 11/20\n",
            "938/938 [==============================] - 10s 11ms/step - loss: 0.0101 - accuracy: 0.9968 - val_loss: 0.0475 - val_accuracy: 0.9902\n",
            "Epoch 12/20\n",
            "938/938 [==============================] - 10s 11ms/step - loss: 0.0105 - accuracy: 0.9968 - val_loss: 0.0353 - val_accuracy: 0.9913\n",
            "Epoch 13/20\n",
            "938/938 [==============================] - 11s 12ms/step - loss: 0.0072 - accuracy: 0.9978 - val_loss: 0.0457 - val_accuracy: 0.9912\n",
            "Epoch 14/20\n",
            "938/938 [==============================] - 11s 11ms/step - loss: 0.0079 - accuracy: 0.9975 - val_loss: 0.0389 - val_accuracy: 0.9919\n",
            "Epoch 15/20\n",
            "938/938 [==============================] - 11s 11ms/step - loss: 0.0090 - accuracy: 0.9974 - val_loss: 0.0377 - val_accuracy: 0.9915\n",
            "Epoch 16/20\n",
            "938/938 [==============================] - 10s 11ms/step - loss: 0.0063 - accuracy: 0.9980 - val_loss: 0.0404 - val_accuracy: 0.9916\n",
            "Epoch 17/20\n",
            "938/938 [==============================] - 10s 11ms/step - loss: 0.0062 - accuracy: 0.9982 - val_loss: 0.0479 - val_accuracy: 0.9914\n",
            "Epoch 18/20\n",
            "938/938 [==============================] - 10s 11ms/step - loss: 0.0053 - accuracy: 0.9985 - val_loss: 0.0397 - val_accuracy: 0.9918\n",
            "Epoch 19/20\n",
            "938/938 [==============================] - 10s 11ms/step - loss: 0.0061 - accuracy: 0.9982 - val_loss: 0.0469 - val_accuracy: 0.9903\n",
            "Epoch 20/20\n",
            "938/938 [==============================] - 10s 11ms/step - loss: 0.0061 - accuracy: 0.9982 - val_loss: 0.0453 - val_accuracy: 0.9896\n"
          ]
        }
      ]
    },
    {
      "cell_type": "code",
      "source": [
        "plt.figure(figsize=(10,5))\n",
        "plt.plot(history.history['accuracy'], color= 'red', label='training_accuracy')\n",
        "plt.plot(history.history['val_accuracy'], color= 'blue', label='validation_accuracy')\n",
        "plt.xticks(ticks=range(epochs))\n",
        "plt.legend()\n",
        "plt.show()"
      ],
      "metadata": {
        "colab": {
          "base_uri": "https://localhost:8080/",
          "height": 320
        },
        "id": "yqkYWkByq1Tf",
        "outputId": "149578b8-0a46-4f01-8e68-8871ae9e1252"
      },
      "execution_count": 32,
      "outputs": [
        {
          "output_type": "display_data",
          "data": {
            "image/png": "[encoded data removed]",
            "text/plain": [
              "<Figure size 720x360 with 1 Axes>"
            ]
          },
          "metadata": {
            "needs_background": "light"
          }
        }
      ]
    },
    {
      "cell_type": "code",
      "source": [
        "model.evaluate(X_test, y_test)"
      ],
      "metadata": {
        "colab": {
          "base_uri": "https://localhost:8080/"
        },
        "id": "ttKQRMD4qmL-",
        "outputId": "e6b39033-4048-4a90-a136-c07dcabf1ff2"
      },
      "execution_count": 20,
      "outputs": [
        {
          "output_type": "stream",
          "name": "stdout",
          "text": [
            "313/313 [==============================] - 2s 5ms/step - loss: 0.0453 - accuracy: 0.9896\n"
          ]
        },
        {
          "output_type": "execute_result",
          "data": {
            "text/plain": [
              "[0.0452725924551487, 0.9896000027656555]"
            ]
          },
          "metadata": {},
          "execution_count": 20
        }
      ]
    },
    {
      "cell_type": "markdown",
      "source": [
        "Te model is a good model with training accuracy of 99.82 % and validation accuracy of 98.96 %."
      ],
      "metadata": {
        "id": "aNN8SGw1qW-P"
      }
    },
    {
      "cell_type": "code",
      "source": [
        ""
      ],
      "metadata": {
        "id": "tLpnUmIJpY4Z"
      },
      "execution_count": 19,
      "outputs": []
    }
  ]
}